{
 "cells": [
  {
   "cell_type": "markdown",
   "metadata": {},
   "source": [
    "# The Beam Driven Plasma Wake Field Acceleration (Linear regime)\n",
    "## Theory\n",
    "\n",
    "As we have seen, our goal is to calculate the accelerating force and the focusing force of an electron in the wakefield, which are the longitudinal and transverse gradient of $\\psi$. So our goal reduces to calculating $\\psi$.\n",
    "\n",
    "We will calculate $\\psi$ by solving the Poisson-like equation: \n",
    "\n",
    "$-{\\nabla_\\perp}^2 \\psi = {\\rho} - J_z$. \n",
    "\n",
    "We keep to keep in mind that the beam's contribution to the RHS is 0 because beam moves at (nearly) speed of light. So the contribution to the RHS comes from the first order plasma electrons. Finally we can get:\n",
    "\n",
    "${\\nabla_\\perp}^2 \\psi = -\\rho_1 - v_{z1}$. \n",
    "\n",
    "Then we will use an important conservation law: $\\gamma - p_z = 1 + \\psi$.\n",
    "\n",
    "For a plasma electron starting at rest: $\\gamma = 1$.\n",
    "\n",
    "So $1 - v_{z1} = 1 + \\psi$. So $v_{z1} =- \\psi$. So finally we get\n",
    "\n",
    "$\\left({\\nabla_\\perp}^2 - 1\\right) \\psi= -\\rho_1$. \n",
    "\n",
    "However, we need one more equation to relate the plasma density to the beam density.\n",
    "\n",
    "We start from the continuity equation for plasma electrons: $\\frac{\\partial \\rho}{\\partial t} + \\nabla \\cdot (\\rho v) = 0$. Linearize it, we have: $\\frac{\\partial \\rho_1}{\\partial t} - \\nabla \\cdot \\textbf v_1 = 0$\n",
    "\n",
    "Apply $\\frac{\\partial}{\\partial t}$ to the equation above, we have: $\\frac{\\partial^2 \\rho_1}{\\partial t^2} - \\nabla \\cdot \\frac{\\partial \\textbf v_{1}}{\\partial t} = 0$\n",
    "\n",
    "From linearized Euler equation: $\\frac{\\partial \\textbf v_{1}}{\\partial t} = -\\textbf E_1$. Substitute this into the equation above, we have: $\\frac{\\partial^2 \\rho_1}{\\partial t^2} + \\nabla \\cdot \\textbf E_1 = 0$\n",
    "\n",
    "From linearized Gauss's law: $\\nabla \\cdot \\textbf E_1 = \\rho_1 + \\rho_{b}$,  Plug this into the equation above, we have: $\\frac{\\partial^2 \\rho_1}{\\partial t^2} + \\rho_1 = -\\rho_{b} $. \n",
    "\n",
    "Apply QSA, we have: $\\frac{\\partial^2 \\rho_1}{\\partial \\xi^2} + \\rho_1 = -\\rho_b $,where $\\rho_b$ is given and $\\xi=ct-z$.\n",
    "\n",
    "So far we get two coupled equations,\n",
    "\n",
    "$\\displaystyle\\left({\\nabla_\\perp}^2 - 1\\right) \\psi= -\\rho_1$\n",
    "\n",
    "$\\displaystyle\\left(\\frac{\\partial^2 }{\\partial \\xi^2} + 1\\right)\\rho_1 = -\\rho_b $.\n",
    "\n",
    "Eliminate $\\rho_1$ to get\n",
    "\n",
    "$\\displaystyle\\left(\\frac{\\partial^2 }{\\partial \\xi^2} + 1\\right)\\left({\\nabla_\\perp}^2 - 1\\right) \\psi= \\rho_b$\n",
    "\n",
    "We look for a separable Greens function to this equaton, i.e. we assume $G=G_\\perp(\\mathbf{r})G_{||}(\\xi)$ and $\\rho_b=\\rho_\\perp(\\mathbf{r})\\rho_{||}(\\xi)$. So,\n",
    "\n",
    "$\\displaystyle \\left(\\frac{\\partial^2 }{\\partial \\xi^2} + 1\\right)G(\\xi)=\\delta(\\xi)$\n",
    "\n",
    "$\\left({\\nabla_\\perp}^2 - 1\\right) G(\\mathbf{r})= \\delta(\\mathbf{r})$ ,\n",
    "\n",
    "so that $\\psi = (G(\\xi) * \\rho_{||}(\\xi))( G(\\mathbf{r})*\\rho_\\perp (\\mathbf{r}))$ ($*$ is the convolution). The Greens functions for these operators are\n",
    "\n",
    "$G(\\xi)=\\Theta(\\xi)\\sin(\\xi)$\n",
    "\n",
    "$\\displaystyle G(\\mathbf{r})=-\\frac{K_0(\\mathbf{r})}{2\\pi}$,\n",
    "\n",
    "where $K_0(\\mathbf{r})$ is modified Bessel function of the second kind. We can write down the full expression for $\\psi$ as\n",
    "\n",
    "$ \\displaystyle \\psi(\\xi,\\mathbf{r}) = \\frac{1}{2\\pi}\\int_{\\xi}^{\\infty}d\\xi' \\int_{0}^{2\\pi} d\\theta' \\int_{0}^{\\infty} dr'r'\\rho_b\\left(\\textbf r',\\xi'\\right)\\sin\\left(\\xi - \\xi'\\right)K_0\\left(\\left|\\textbf r - \\textbf r'\\right|\\right) $\n",
    "\n",
    "Once we have $\\psi$, we can calculate the fields by taking appropriate derivatives. For $E_z$, we have\n",
    "\n",
    "$E_z(\\xi,\\mathbf{r})=\\dfrac{\\partial \\psi }{\\partial \\xi} =Z'(\\xi)R(\\mathbf{r})$,\n",
    "\n",
    "where\n",
    "\n",
    "$\\displaystyle Z'(\\xi)=-\\int_\\xi^\\infty d\\xi' \\rho_{||} (\\xi')\\cos(\\xi-\\xi')$\n",
    "\n",
    "$\\displaystyle R(\\mathbf{r})=\\frac{1}{2\\pi}\\int_0^{2\\pi}d\\theta\\int_0^\\infty dr' r' \\rho_\\perp(r')K_0\\left( \\left| \\mathbf{r}-\\mathbf{r}' \\right| \\right)$.\n",
    "\n",
    "The focusing force can be written as\n",
    "\n",
    "$\\displaystyle \\mathbf{F}_\\perp(\\mathbf{r})=\\nabla_\\perp \\psi=Z(\\xi)R'(\\mathbf{r})$.\n",
    "\n",
    "We can take the gradient inside the $R(\\mathbf{r})$ integral and act on the bessel function, so we get\n",
    "\n",
    "$\\displaystyle R'(\\mathbf{r})=\\frac{1}{2\\pi}\\int_0^{2\\pi}d\\theta\\int_0^\\infty dr' r' \\rho_\\perp(r')\\frac{( r'\\cos\\theta' -r)}{\\left| \\mathbf{r}-\\mathbf{r}' \\right|}K_1\\left( \\left| \\mathbf{r}-\\mathbf{r}' \\right| \\right)$.\n",
    "\n",
    "The on-axis $E_z$ for a Gaussian drive beam can be calculated analytically for $\\xi \\gg \\sigma_z$  as\n",
    "\n",
    "$\\displaystyle E_z(\\xi,r=0)=\\sqrt{2\\pi}\\left(\\frac{q}{e}\\right) \\left(\\frac{n_b}{n_p} \\right) \\left( \\frac{k_p^3\\sigma_z\\sigma_r^2}{2} e^{-k_p^2\\sigma_z^2/2}e^{k_p^2\\sigma_r^2/2} \\right) \\Gamma \\left(0,\\frac{k_p^2\\sigma_r^2}{2}\\right)$,\n",
    "\n",
    "where $\\Gamma$ is the upper incomplete Gamma function. Alternatively, one could numerically integrate the $R(r)$ and $Z'(\\xi)$ expressions to get the wake fields. Similarly, for the plasma density we have \n",
    "\n",
    "$\\displaystyle\\rho_1(\\xi,r) = \\rho_\\perp(r)\\int_\\xi^\\infty d\\xi' \\rho_{||}(\\xi')\\sin\\left(\\xi-\\xi'\\right)$.\n",
    "\n",
    "In the following, we will run a one 3D timestep QuickPIC simulation and compare these integrated expressions with the simulation output data."
   ]
  },
  {
   "cell_type": "markdown",
   "metadata": {},
   "source": [
    "## Simulation\n",
    "### 1. Make an input file"
   ]
  },
  {
   "cell_type": "code",
   "execution_count": 2,
   "metadata": {},
   "outputs": [
    {
     "data": {
      "application/vnd.jupyter.widget-view+json": {
       "model_id": "421b2bdcfa854c45ae70a1afea4fdba0",
       "version_major": 2,
       "version_minor": 0
      },
      "text/plain": [
       "interactive(children=(Text(value='qpinput_linear.json', description='Template Input File:', layout=Layout(widt…"
      ]
     },
     "metadata": {},
     "output_type": "display_data"
    }
   ],
   "source": [
    "from importlib import reload\n",
    "import qphelper, os\n",
    "qphelper = reload(qphelper)\n",
    "qphelper.makeWidgetsForLinearInput()"
   ]
  },
  {
   "cell_type": "markdown",
   "metadata": {},
   "source": [
    "### 2. Run QuickPIC simulation"
   ]
  },
  {
   "cell_type": "code",
   "execution_count": 6,
   "metadata": {},
   "outputs": [
    {
     "name": "stdout",
     "output_type": "stream",
     "text": [
      "quickpic completed normally\n"
     ]
    }
   ],
   "source": [
    "import quickpic\n",
    "qphelper.deleteAllOutput()\n",
    "quickpic.runqpic(rundir='rundir',inputfile='qpinput.json')"
   ]
  },
  {
   "cell_type": "markdown",
   "metadata": {},
   "source": [
    "### 3. Visualize the output data"
   ]
  },
  {
   "cell_type": "code",
   "execution_count": 7,
   "metadata": {
    "scrolled": false
   },
   "outputs": [
    {
     "data": {
      "application/vnd.jupyter.widget-view+json": {
       "model_id": "8d12f77dd56443a9a69ba6b240a9c735",
       "version_major": 2,
       "version_minor": 0
      },
      "text/plain": [
       "interactive(children=(FloatSlider(value=0.0, continuous_update=False, description='x_position', max=3.0, min=-…"
      ]
     },
     "metadata": {},
     "output_type": "display_data"
    },
    {
     "data": {
      "application/vnd.jupyter.widget-view+json": {
       "model_id": "1887a6ec672541249b27f29019fee4c1",
       "version_major": 2,
       "version_minor": 0
      },
      "text/plain": [
       "interactive(children=(FloatSlider(value=2.5, continuous_update=False, description='xi_position', max=10.0, ste…"
      ]
     },
     "metadata": {},
     "output_type": "display_data"
    },
    {
     "data": {
      "application/vnd.jupyter.widget-view+json": {
       "model_id": "780fab44c7b8476f885a1b2578d00028",
       "version_major": 2,
       "version_minor": 0
      },
      "text/plain": [
       "interactive(children=(FloatSlider(value=0.0, continuous_update=False, description='x_position', max=3.0, min=-…"
      ]
     },
     "metadata": {},
     "output_type": "display_data"
    },
    {
     "data": {
      "application/vnd.jupyter.widget-view+json": {
       "model_id": "e17d01fef8bd42e7974d199113100202",
       "version_major": 2,
       "version_minor": 0
      },
      "text/plain": [
       "interactive(children=(FloatSlider(value=4.25, continuous_update=False, description='xi_position', max=10.0, st…"
      ]
     },
     "metadata": {},
     "output_type": "display_data"
    },
    {
     "data": {
      "application/vnd.jupyter.widget-view+json": {
       "model_id": "65c43aa9e0f94e62a89a6de5fd41ac1b",
       "version_major": 2,
       "version_minor": 0
      },
      "text/plain": [
       "interactive(children=(FloatSlider(value=0.0, continuous_update=False, description='x_position', max=3.0, min=-…"
      ]
     },
     "metadata": {},
     "output_type": "display_data"
    },
    {
     "data": {
      "application/vnd.jupyter.widget-view+json": {
       "model_id": "2768b0ceed7d4628a0dbd8c389c51eab",
       "version_major": 2,
       "version_minor": 0
      },
      "text/plain": [
       "interactive(children=(FloatSlider(value=5.6, continuous_update=False, description='xi_position', max=10.0, ste…"
      ]
     },
     "metadata": {},
     "output_type": "display_data"
    },
    {
     "data": {
      "application/vnd.jupyter.widget-view+json": {
       "model_id": "17c4c4a79e3c4a66bdaa50c2f5954a8b",
       "version_major": 2,
       "version_minor": 0
      },
      "text/plain": [
       "interactive(children=(FloatSlider(value=-1.1, continuous_update=False, description='x_position', max=3.0, min=…"
      ]
     },
     "metadata": {},
     "output_type": "display_data"
    },
    {
     "data": {
      "application/vnd.jupyter.widget-view+json": {
       "model_id": "96593bac73884ef3a9208b0bca40a3de",
       "version_major": 2,
       "version_minor": 0
      },
      "text/plain": [
       "interactive(children=(FloatSlider(value=4.1, continuous_update=False, description='xi_position', max=10.0, ste…"
      ]
     },
     "metadata": {},
     "output_type": "display_data"
    }
   ],
   "source": [
    "isLinear = True\n",
    "isSmooth = True #smooth focusing force integrations (last plot)\n",
    "\n",
    "#please be patient for the numerical integration\n",
    "qphelper = reload(qphelper)\n",
    "qphelper.makeplot('rundir',isLinear,isSmooth)"
   ]
  },
  {
   "cell_type": "code",
   "execution_count": null,
   "metadata": {},
   "outputs": [],
   "source": []
  },
  {
   "cell_type": "code",
   "execution_count": null,
   "metadata": {},
   "outputs": [],
   "source": []
  }
 ],
 "metadata": {
  "kernelspec": {
   "display_name": "Python 3",
   "language": "python",
   "name": "python3"
  },
  "language_info": {
   "codemirror_mode": {
    "name": "ipython",
    "version": 3
   },
   "file_extension": ".py",
   "mimetype": "text/x-python",
   "name": "python",
   "nbconvert_exporter": "python",
   "pygments_lexer": "ipython3",
   "version": "3.7.1"
  }
 },
 "nbformat": 4,
 "nbformat_minor": 2
}
