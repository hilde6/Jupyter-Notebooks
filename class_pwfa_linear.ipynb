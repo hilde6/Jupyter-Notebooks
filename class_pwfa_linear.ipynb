{
 "cells": [
  {
   "cell_type": "markdown",
   "metadata": {},
   "source": [
    "# The Beam Driven Plasma Wake Field Acceleration (Linear regime)\n",
    "\n",
    "Notebook developed by Lance Hildebrand and Yujian Zhao based on modules made by Weiming An\n",
    "\n",
    "## Some Theory\n",
    "\n",
    "The purpose of this notebook is to introduce linear wakefield theory and to investigate the limits of this theory. The notebook is for beam driven wakefields; a sister notebook for laser driven wakefields will be available at later date for those who are interested.\n",
    "\n",
    "As we have seen the forces from the wakefield on a particle moving near the speed of light can be obtained from a single potential $\\psi\\equiv\\phi-A_z$. This is referred to as the wake or pseudo potential and it is gauge invariant. The accelerating and the focusing forces in the wakefield are the longitudinal and transverse gradient of $\\psi$, respectively. So the problem reduces to calculating $\\psi$.\n",
    "\n",
    "There are a variety of paths for deriving the differential equations for $\\psi$. To be instructive, here we use a different derivation than that given in class.  We start from the the Poisson-like equation for $\\psi$: \n",
    "\n",
    "$-{\\nabla_\\perp}^2 \\psi = {\\rho} - J_z$. \n",
    "\n",
    "We keep to keep in mind that the beam's contribution to the RHS is 0 because the beam moves at (nearly) speed of light. So the contribution to the RHS comes from the first order plasma electrons ($\\rho$ from the zeroth order ion and electron densities cancel). Therefore, the linearized version of the Poisson equation for $\\psi$ is:\n",
    "\n",
    "${\\nabla_\\perp}^2 \\psi = -\\rho_1 - v_{z1}$. \n",
    "\n",
    "We next use an important conservation law: $\\gamma - p_z = 1 + \\psi$ where it is assumed that a plasma electron starts at rest: $\\gamma = 1$ and $p_{z0}=1$. For a  particle beam $\\gamma=(1+p_{\\perp}^2+p_z^2)^{1/2}$, while later in the class we will show that if there is a laser field then this relationship is $\\gamma=(1+p_{\\perp}^2+p_z^2+|e\\vec A_\\perp/mc^2|/2)^{1/2}$.\n",
    "\n",
    "Therefore, to first order,  $1 - v_{z1} = 1 + \\psi$ ($\\gamma_1=0$ for a particle beam, this is different for a laser driver). So $v_{z1} =- \\psi$ from which it follows that\n",
    "\n",
    "$\\left({\\nabla_\\perp}^2 - 1\\right) \\psi= -\\rho_1$. \n",
    "\n",
    "However, we need one more equation to relate the plasma density to the beam density.\n",
    "\n",
    "We start from the continuity equation for plasma electrons: $\\frac{\\partial \\rho}{\\partial t} + \\nabla \\cdot (\\rho v) = 0$. Upon linearizing it, we have: $\\frac{\\partial \\rho_1}{\\partial t} - \\nabla \\cdot \\textbf v_1 = 0$\n",
    "\n",
    "Applying $\\frac{\\partial}{\\partial t}$ to this equation, gives: $\\frac{\\partial^2 \\rho_1}{\\partial t^2} - \\nabla \\cdot \\frac{\\partial \\textbf v_{1}}{\\partial t} = 0$\n",
    "\n",
    "From the linearized Euler equation: $\\frac{\\partial \\textbf v_{1}}{\\partial t} = -\\textbf E_1$ (this is different for a laser driver). Substituting this into the equation above, leads to: $\\frac{\\partial^2 \\rho_1}{\\partial t^2} + \\nabla \\cdot \\textbf E_1 = 0$\n",
    "\n",
    "From the linearized Gauss's law, it follows that: $\\nabla \\cdot \\textbf E_1 = \\rho_1 + \\rho_{b}$.  Substituting this into the equation above, gives: $\\frac{\\partial^2 \\rho_1}{\\partial t^2} + \\rho_1 = -\\rho_{b} $. \n",
    "\n",
    "Applying the QSA, leads to: $\\frac{\\partial^2 \\rho_1}{\\partial \\xi^2} + \\rho_1 = -\\rho_b $,where $\\rho_b$ is given and $\\xi\\equiv ct-z$.\n",
    "\n",
    "We therefore have two coupled equations,\n",
    "\n",
    "$\\displaystyle\\left({\\nabla_\\perp}^2 - 1\\right) \\psi= -\\rho_1$\n",
    "\n",
    "$\\displaystyle\\left(\\frac{\\partial^2 }{\\partial \\xi^2} + 1\\right)\\rho_1 = -\\rho_b $.\n",
    "\n",
    "Eliminating $\\rho_1$ leads to a single equation for $\\psi$,\n",
    "\n",
    "$\\displaystyle\\left(\\frac{\\partial^2 }{\\partial \\xi^2} + 1\\right)\\left({\\nabla_\\perp}^2 - 1\\right) \\psi= \\rho_b$\n",
    "\n",
    "We look for a separable Greens function to this equaton, i.e., we assume $G=G_\\perp(\\mathbf{r})G_{||}(\\xi)$ and $\\rho_b=\\rho_\\perp(\\mathbf{r})\\rho_{||}(\\xi)$. So,\n",
    "\n",
    "$\\displaystyle \\left(\\frac{\\partial^2 }{\\partial \\xi^2} + 1\\right)G(\\xi)=\\delta(\\xi)$\n",
    "\n",
    "$\\left({\\nabla_\\perp}^2 - 1\\right) G(\\mathbf{r})= \\delta(\\mathbf{r})$ ,\n",
    "\n",
    "so that $\\psi = (G(\\xi) * \\rho_{||}(\\xi))( G(\\mathbf{r})*\\rho_\\perp (\\mathbf{r}))$ ($*$ is the convolution). The Greens functions for these operators are\n",
    "\n",
    "$G(\\xi)=\\Theta(\\xi)\\sin(\\xi)$\n",
    "\n",
    "$\\displaystyle G(\\mathbf{r})=-\\frac{K_0(\\mathbf{r})}{2\\pi}$,\n",
    "\n",
    "where $K_0(\\mathbf{r})$ is modified Bessel function of the second kind. We can therefore write out full expression for $\\psi$ as an integral of $\\rho_b$ over the Green's functions, \n",
    "\n",
    "$ \\displaystyle \\psi(\\xi,\\mathbf{r}) = \\frac{1}{2\\pi}\\int_{\\xi}^{\\infty}d\\xi' \\int_{0}^{2\\pi} d\\theta' \\int_{0}^{\\infty} dr'r'\\rho_b\\left(\\textbf r',\\xi'\\right)\\sin\\left(\\xi - \\xi'\\right)K_0\\left(\\left|\\textbf r - \\textbf r'\\right|\\right) $\n",
    "\n",
    "Once we have $\\psi$, we can calculate the fields by taking appropriate derivatives. For $E_z$, we have\n",
    "\n",
    "$E_z(\\xi,\\mathbf{r})=\\dfrac{\\partial \\psi }{\\partial \\xi} =Z'(\\xi)R(\\mathbf{r})$,\n",
    "\n",
    "where\n",
    "\n",
    "$\\displaystyle Z'(\\xi)=-\\int_\\xi^\\infty d\\xi' \\rho_{||} (\\xi')\\cos(\\xi-\\xi')$\n",
    "\n",
    "$\\displaystyle R(\\mathbf{r})=\\frac{1}{2\\pi}\\int_0^{2\\pi}d\\theta'\\int_0^\\infty dr' r' \\rho_\\perp(r')K_0\\left( \\left| \\mathbf{r}-\\mathbf{r}' \\right| \\right)$.\n",
    "\n",
    "The focusing force can be written as\n",
    "\n",
    "$\\displaystyle \\mathbf{F}_\\perp(\\mathbf{r})=\\nabla_\\perp \\psi=Z(\\xi)R'(\\mathbf{r})$.\n",
    "\n",
    "We can take the gradient inside the $R(\\mathbf{r})$ integral and act on the modified Bessel function, to get\n",
    "\n",
    "$\\displaystyle R'(\\mathbf{r})=\\frac{1}{2\\pi}\\int_0^{2\\pi}d\\theta'\\int_0^\\infty dr' r' \\rho_\\perp(r')\\frac{( r'\\cos\\theta' -r)}{\\left| \\mathbf{r}-\\mathbf{r}' \\right|}K_1\\left( \\left| \\mathbf{r}-\\mathbf{r}' \\right| \\right)$.\n",
    "\n",
    "The on-axis $E_z$ for a Gaussian drive beam can be calculated analytically for $\\xi \\gg \\sigma_z$  as\n",
    "\n",
    "$\\displaystyle E_z(\\xi,r=0)=\\sqrt{2\\pi}\\left(\\frac{q}{e}\\right) \\left(\\frac{n_b}{n_p} \\right) \\left( \\frac{k_p^3\\sigma_z\\sigma_r^2}{2} e^{-k_p^2\\sigma_z^2/2}e^{k_p^2\\sigma_r^2/2} \\right) \\Gamma \\left(0,\\frac{k_p^2\\sigma_r^2}{2}\\right)$,\n",
    "\n",
    "where $\\Gamma$ is the upper incomplete Gamma function. Alternatively, one could numerically integrate for $R(r)$ and $Z'(\\xi)$ to expressions for the wake fields. Similarly, for the plasma density we have \n",
    "\n",
    "$\\displaystyle\\rho_1(\\xi,r) = \\rho_\\perp(r)\\int_\\xi^\\infty d\\xi' \\rho_{||}(\\xi')\\sin\\left(\\xi-\\xi'\\right)$.\n",
    "\n",
    "In the following, we will run a one 3D timestep QuickPIC simulation and compare these integrated expressions with the simulation output data.\n",
    "\n",
    "In the final cell, we check the simulation obeys the Panofsky-Wenzel theorem by differentiating the $E_z$ and $F_\\perp$ from the simulation, i.e. checking\n",
    "\n",
    "$\\displaystyle \\frac{\\partial E_z}{\\partial r}=\\frac{\\partial F_\\perp}{\\partial \\xi}$."
   ]
  },
  {
   "cell_type": "markdown",
   "metadata": {},
   "source": [
    "## Simulation\n",
    "### 1. Make an input file"
   ]
  },
  {
   "cell_type": "code",
   "execution_count": 2,
   "metadata": {},
   "outputs": [
    {
     "data": {
      "application/vnd.jupyter.widget-view+json": {
       "model_id": "92ae4c78e154401fa63c81b2837759eb",
       "version_major": 2,
       "version_minor": 0
      },
      "text/plain": [
       "interactive(children=(Text(value='qpinput_linear.json', description='Template Input File:', layout=Layout(widt…"
      ]
     },
     "metadata": {},
     "output_type": "display_data"
    }
   ],
   "source": [
    "from importlib import reload\n",
    "import qphelper, os\n",
    "qphelper = reload(qphelper)\n",
    "qphelper.makeWidgetsForLinearInput()"
   ]
  },
  {
   "cell_type": "markdown",
   "metadata": {},
   "source": [
    "### 2. Run QuickPIC simulation"
   ]
  },
  {
   "cell_type": "code",
   "execution_count": 1,
   "metadata": {},
   "outputs": [
    {
     "ename": "NameError",
     "evalue": "name 'qphelper' is not defined",
     "output_type": "error",
     "traceback": [
      "\u001b[0;31m---------------------------------------------------------------------------\u001b[0m",
      "\u001b[0;31mNameError\u001b[0m                                 Traceback (most recent call last)",
      "\u001b[0;32m<ipython-input-1-64454051a493>\u001b[0m in \u001b[0;36m<module>\u001b[0;34m\u001b[0m\n\u001b[1;32m      1\u001b[0m \u001b[0;32mimport\u001b[0m \u001b[0mquickpic\u001b[0m\u001b[0;34m\u001b[0m\u001b[0;34m\u001b[0m\u001b[0m\n\u001b[0;32m----> 2\u001b[0;31m \u001b[0mqphelper\u001b[0m\u001b[0;34m.\u001b[0m\u001b[0mdeleteAllOutput\u001b[0m\u001b[0;34m(\u001b[0m\u001b[0;34m)\u001b[0m\u001b[0;34m\u001b[0m\u001b[0;34m\u001b[0m\u001b[0m\n\u001b[0m\u001b[1;32m      3\u001b[0m \u001b[0mquickpic\u001b[0m\u001b[0;34m.\u001b[0m\u001b[0mrunqpic\u001b[0m\u001b[0;34m(\u001b[0m\u001b[0mrundir\u001b[0m\u001b[0;34m=\u001b[0m\u001b[0;34m'rundir'\u001b[0m\u001b[0;34m,\u001b[0m\u001b[0minputfile\u001b[0m\u001b[0;34m=\u001b[0m\u001b[0;34m'qpinput.json'\u001b[0m\u001b[0;34m)\u001b[0m\u001b[0;34m\u001b[0m\u001b[0;34m\u001b[0m\u001b[0m\n",
      "\u001b[0;31mNameError\u001b[0m: name 'qphelper' is not defined"
     ]
    }
   ],
   "source": [
    "import quickpic\n",
    "qphelper.deleteAllOutput()\n",
    "quickpic.runqpic(rundir='rundir',inputfile='qpinput.json')"
   ]
  },
  {
   "cell_type": "markdown",
   "metadata": {},
   "source": [
    "### 3. Visualize the output data"
   ]
  },
  {
   "cell_type": "code",
   "execution_count": 4,
   "metadata": {
    "scrolled": false
   },
   "outputs": [
    {
     "data": {
      "application/vnd.jupyter.widget-view+json": {
       "model_id": "678f9e82fcd44b06a43952dd7428ccd5",
       "version_major": 2,
       "version_minor": 0
      },
      "text/plain": [
       "interactive(children=(FloatSlider(value=0.0, continuous_update=False, description='x_position', max=3.0, min=-…"
      ]
     },
     "metadata": {},
     "output_type": "display_data"
    },
    {
     "data": {
      "application/vnd.jupyter.widget-view+json": {
       "model_id": "48aab8c8e3e4435ca4614781221022dc",
       "version_major": 2,
       "version_minor": 0
      },
      "text/plain": [
       "interactive(children=(FloatSlider(value=2.5, continuous_update=False, description='xi_position', max=10.0, ste…"
      ]
     },
     "metadata": {},
     "output_type": "display_data"
    },
    {
     "data": {
      "application/vnd.jupyter.widget-view+json": {
       "model_id": "f316885af9b540bd89af73adbce029d4",
       "version_major": 2,
       "version_minor": 0
      },
      "text/plain": [
       "interactive(children=(FloatSlider(value=0.0, continuous_update=False, description='x_position', max=3.0, min=-…"
      ]
     },
     "metadata": {},
     "output_type": "display_data"
    },
    {
     "data": {
      "application/vnd.jupyter.widget-view+json": {
       "model_id": "51ef70f5611a4eceaeabecf859bd0c79",
       "version_major": 2,
       "version_minor": 0
      },
      "text/plain": [
       "interactive(children=(FloatSlider(value=4.25, continuous_update=False, description='xi_position', max=10.0, st…"
      ]
     },
     "metadata": {},
     "output_type": "display_data"
    },
    {
     "data": {
      "application/vnd.jupyter.widget-view+json": {
       "model_id": "3a94c5f136f84306a174e8b38acb5059",
       "version_major": 2,
       "version_minor": 0
      },
      "text/plain": [
       "interactive(children=(FloatSlider(value=0.0, continuous_update=False, description='x_position', max=3.0, min=-…"
      ]
     },
     "metadata": {},
     "output_type": "display_data"
    },
    {
     "data": {
      "application/vnd.jupyter.widget-view+json": {
       "model_id": "c4d5fc683c1f4c26a19bd68c70eb86b4",
       "version_major": 2,
       "version_minor": 0
      },
      "text/plain": [
       "interactive(children=(FloatSlider(value=5.6, continuous_update=False, description='xi_position', max=10.0, ste…"
      ]
     },
     "metadata": {},
     "output_type": "display_data"
    },
    {
     "data": {
      "application/vnd.jupyter.widget-view+json": {
       "model_id": "1714c931858e4438a9789582e04af442",
       "version_major": 2,
       "version_minor": 0
      },
      "text/plain": [
       "interactive(children=(FloatSlider(value=-1.1, continuous_update=False, description='x_position', max=3.0, min=…"
      ]
     },
     "metadata": {},
     "output_type": "display_data"
    },
    {
     "data": {
      "application/vnd.jupyter.widget-view+json": {
       "model_id": "8767c7f7c79b46d7b5287f3756dcf607",
       "version_major": 2,
       "version_minor": 0
      },
      "text/plain": [
       "interactive(children=(FloatSlider(value=4.1, continuous_update=False, description='xi_position', max=10.0, ste…"
      ]
     },
     "metadata": {},
     "output_type": "display_data"
    }
   ],
   "source": [
    "#The numerical integration for some plots may take a while.\n",
    "#We have tuned the numerical parameters so that we maintain decent accuracy while running in real time, more or less.\n",
    "#If you choose very different input parameters for the simulation some of the integrals may break.\n",
    "\n",
    "qphelper = reload(qphelper)\n",
    "qphelper.makeplot('rundir',True)"
   ]
  },
  {
   "cell_type": "code",
   "execution_count": 5,
   "metadata": {},
   "outputs": [
    {
     "data": {
      "application/vnd.jupyter.widget-view+json": {
       "model_id": "bcad3d8ac24a4c0f8f6244567840507c",
       "version_major": 2,
       "version_minor": 0
      },
      "text/plain": [
       "interactive(children=(FloatSlider(value=5.75, continuous_update=False, description='xi_position', max=10.0, st…"
      ]
     },
     "metadata": {},
     "output_type": "display_data"
    }
   ],
   "source": [
    "import pwcheck\n",
    "pwcheck=reload(pwcheck)\n",
    "\n",
    "## In this cell we check the Panofsky-Wenzel theorem by differentiating E_z in r and the focusing force in xi and comparing them.\n",
    "# We check the lineout in the x direction.\n",
    "\n",
    "pwcheck.makeplot('rundir')"
   ]
  },
  {
   "cell_type": "code",
   "execution_count": null,
   "metadata": {},
   "outputs": [],
   "source": []
  }
 ],
 "metadata": {
  "kernelspec": {
   "display_name": "Python 3",
   "language": "python",
   "name": "python3"
  },
  "language_info": {
   "codemirror_mode": {
    "name": "ipython",
    "version": 3
   },
   "file_extension": ".py",
   "mimetype": "text/x-python",
   "name": "python",
   "nbconvert_exporter": "python",
   "pygments_lexer": "ipython3",
   "version": "3.7.3"
  }
 },
 "nbformat": 4,
 "nbformat_minor": 2
}
